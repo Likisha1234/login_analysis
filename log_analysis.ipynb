{
 "cells": [
  {
   "cell_type": "code",
   "execution_count": 1,
   "id": "c3fc1253",
   "metadata": {},
   "outputs": [],
   "source": [
    "import re\n",
    "import csv\n",
    "from collections import defaultdict, Counter\n"
   ]
  },
  {
   "cell_type": "code",
   "execution_count": 2,
   "id": "82375409",
   "metadata": {},
   "outputs": [],
   "source": [
    "log_file = \"sample.log\"\n",
    "\n",
    "with open(log_file, 'r') as file:\n",
    "    logs = file.readlines()\n"
   ]
  },
  {
   "cell_type": "code",
   "execution_count": 3,
   "id": "70c6dfc7",
   "metadata": {},
   "outputs": [
    {
     "name": "stdout",
     "output_type": "stream",
     "text": [
      "IP Address           Request Count\n",
      "203.0.113.5          8\n",
      "198.51.100.23        8\n",
      "192.168.1.1          7\n",
      "10.0.0.2             6\n",
      "192.168.1.100        5\n"
     ]
    }
   ],
   "source": [
    "ip_counts = Counter()\n",
    "\n",
    "for log in logs:\n",
    "    match = re.search(r'(\\d+\\.\\d+\\.\\d+\\.\\d+)', log)\n",
    "    if match:\n",
    "        ip_counts[match.group(1)] += 1\n",
    "\n",
    "# Sort IP addresses by request count in descending order\n",
    "sorted_ip_counts = sorted(ip_counts.items(), key=lambda x: x[1], reverse=True)\n",
    "\n",
    "print(\"IP Address           Request Count\")\n",
    "for ip, count in sorted_ip_counts:\n",
    "    print(f\"{ip:20} {count}\")\n"
   ]
  },
  {
   "cell_type": "code",
   "execution_count": 4,
   "id": "5d074ca8",
   "metadata": {},
   "outputs": [
    {
     "name": "stdout",
     "output_type": "stream",
     "text": [
      "\n",
      "Most Frequently Accessed Endpoint:\n",
      "/login (Accessed 13 times)\n"
     ]
    }
   ],
   "source": [
    "endpoint_counts = Counter()\n",
    "\n",
    "for log in logs:\n",
    "    match = re.search(r'\\\"(?:GET|POST|PUT|DELETE|HEAD) (/\\S*)', log)\n",
    "    if match:\n",
    "        endpoint_counts[match.group(1)] += 1\n",
    "\n",
    "# Find the most accessed endpoint\n",
    "most_accessed = endpoint_counts.most_common(1)[0]\n",
    "\n",
    "print(\"\\nMost Frequently Accessed Endpoint:\")\n",
    "print(f\"{most_accessed[0]} (Accessed {most_accessed[1]} times)\")\n"
   ]
  },
  {
   "cell_type": "code",
   "execution_count": 5,
   "id": "465e375f",
   "metadata": {},
   "outputs": [
    {
     "name": "stdout",
     "output_type": "stream",
     "text": [
      "\n",
      "Suspicious Activity Detected:\n",
      "IP Address           Failed Login Attempts\n"
     ]
    }
   ],
   "source": [
    "failed_login_counts = Counter()\n",
    "threshold = 10  # Configurable threshold for failed login attempts\n",
    "\n",
    "for log in logs:\n",
    "    if \"401\" in log or \"Invalid credentials\" in log:\n",
    "        match = re.search(r'(\\d+\\.\\d+\\.\\d+\\.\\d+)', log)\n",
    "        if match:\n",
    "            failed_login_counts[match.group(1)] += 1\n",
    "\n",
    "# Filter IPs exceeding the threshold\n",
    "suspicious_ips = {ip: count for ip, count in failed_login_counts.items() if count > threshold}\n",
    "\n",
    "print(\"\\nSuspicious Activity Detected:\")\n",
    "print(\"IP Address           Failed Login Attempts\")\n",
    "for ip, count in suspicious_ips.items():\n",
    "    print(f\"{ip:20} {count}\")\n"
   ]
  },
  {
   "cell_type": "code",
   "execution_count": 6,
   "id": "b08476e5",
   "metadata": {},
   "outputs": [
    {
     "name": "stdout",
     "output_type": "stream",
     "text": [
      "\n",
      "Results saved to log_analysis_results.csv\n"
     ]
    }
   ],
   "source": [
    "output_file = \"log_analysis_results.csv\"\n",
    "\n",
    "with open(output_file, 'w', newline='') as csvfile:\n",
    "    csv_writer = csv.writer(csvfile)\n",
    "\n",
    "    # Write IP Requests\n",
    "    csv_writer.writerow([\"IP Address\", \"Request Count\"])\n",
    "    csv_writer.writerows(sorted_ip_counts)\n",
    "    csv_writer.writerow([])  # Empty row for separation\n",
    "\n",
    "    # Write Most Accessed Endpoint\n",
    "    csv_writer.writerow([\"Most Accessed Endpoint\", \"Access Count\"])\n",
    "    csv_writer.writerow([most_accessed[0], most_accessed[1]])\n",
    "    csv_writer.writerow([])  # Empty row for separation\n",
    "\n",
    "    # Write Suspicious Activity\n",
    "    csv_writer.writerow([\"IP Address\", \"Failed Login Count\"])\n",
    "    csv_writer.writerows(suspicious_ips.items())\n",
    "\n",
    "print(\"\\nResults saved to\", output_file)\n"
   ]
  },
  {
   "cell_type": "code",
   "execution_count": null,
   "id": "bf33d746",
   "metadata": {},
   "outputs": [],
   "source": []
  }
 ],
 "metadata": {
  "kernelspec": {
   "display_name": "Python 3 (ipykernel)",
   "language": "python",
   "name": "python3"
  },
  "language_info": {
   "codemirror_mode": {
    "name": "ipython",
    "version": 3
   },
   "file_extension": ".py",
   "mimetype": "text/x-python",
   "name": "python",
   "nbconvert_exporter": "python",
   "pygments_lexer": "ipython3",
   "version": "3.11.3"
  }
 },
 "nbformat": 4,
 "nbformat_minor": 5
}
